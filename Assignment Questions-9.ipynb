{
 "cells": [
  {
   "cell_type": "markdown",
   "id": "915f5413",
   "metadata": {},
   "source": [
    "Question 1\n",
    "\n",
    "Given an integer `n`, return *`true` if it is a power of two. Otherwise, return `false`*.\n",
    "\n",
    "An integer `n` is a power of two, if there exists an integer `x` such that `n == 2x`.\n",
    "\n",
    "**Example 1:**\n",
    "Input: n = 1 \n",
    "\n",
    "Output: true\n",
    "\n",
    "**Example 2:**\n",
    "Input: n = 16 \n",
    "\n",
    "Output: true\n",
    "\n",
    "**Example 3:**\n",
    "Input: n = 3 \n",
    "\n",
    "Output: false"
   ]
  },
  {
   "cell_type": "code",
   "execution_count": 1,
   "id": "ff0e7e37",
   "metadata": {},
   "outputs": [],
   "source": [
    "class Solution:\n",
    "    def isPowerOfTwo(self, n: int) -> bool:\n",
    "        if n == 0:\n",
    "            return False\n",
    "        if n&(n-1) == 0:\n",
    "            return True\n",
    "        else: \n",
    "            return False"
   ]
  },
  {
   "cell_type": "code",
   "execution_count": 2,
   "id": "6a932831",
   "metadata": {},
   "outputs": [
    {
     "data": {
      "text/plain": [
       "True"
      ]
     },
     "execution_count": 2,
     "metadata": {},
     "output_type": "execute_result"
    }
   ],
   "source": [
    "n=1\n",
    "Solution().isPowerOfTwo(n)"
   ]
  },
  {
   "cell_type": "code",
   "execution_count": 3,
   "id": "5d6c7f2b",
   "metadata": {},
   "outputs": [
    {
     "data": {
      "text/plain": [
       "True"
      ]
     },
     "execution_count": 3,
     "metadata": {},
     "output_type": "execute_result"
    }
   ],
   "source": [
    "n=2\n",
    "Solution().isPowerOfTwo(n)"
   ]
  },
  {
   "cell_type": "code",
   "execution_count": 4,
   "id": "79e3562c",
   "metadata": {},
   "outputs": [
    {
     "data": {
      "text/plain": [
       "False"
      ]
     },
     "execution_count": 4,
     "metadata": {},
     "output_type": "execute_result"
    }
   ],
   "source": [
    "n=3\n",
    "Solution().isPowerOfTwo(n)"
   ]
  },
  {
   "cell_type": "markdown",
   "id": "bcd9eddd",
   "metadata": {},
   "source": [
    "Question 2\n",
    "\n",
    "Given a number n, find the sum of the first natural numbers.\n",
    "\n",
    "**Example 1:**\n",
    "\n",
    "Input: n = 3 \n",
    "\n",
    "Output: 6\n",
    "\n",
    "**Example 2:**\n",
    "\n",
    "Input  : 5 \n",
    "\n",
    "Output : 15\n"
   ]
  },
  {
   "cell_type": "code",
   "execution_count": 5,
   "id": "7e652a46",
   "metadata": {},
   "outputs": [],
   "source": [
    "def recurSum(n):\n",
    "    if n <= 1:\n",
    "        return n\n",
    "    return n + recurSum(n - 1)\n",
    "  \n"
   ]
  },
  {
   "cell_type": "code",
   "execution_count": 7,
   "id": "52f9de87",
   "metadata": {},
   "outputs": [
    {
     "name": "stdout",
     "output_type": "stream",
     "text": [
      "6\n"
     ]
    }
   ],
   "source": [
    "n = 3\n",
    "print(recurSum(n))"
   ]
  },
  {
   "cell_type": "code",
   "execution_count": 8,
   "id": "699b155d",
   "metadata": {},
   "outputs": [
    {
     "name": "stdout",
     "output_type": "stream",
     "text": [
      "15\n"
     ]
    }
   ],
   "source": [
    "n = 5\n",
    "print(recurSum(n))"
   ]
  },
  {
   "cell_type": "markdown",
   "id": "4f60ac71",
   "metadata": {},
   "source": [
    "Question 3\n",
    "\n",
    "****Given a positive integer, N. Find the factorial of N. \n",
    "\n",
    "**Example 1:**\n",
    "\n",
    "Input: N = 5 \n",
    "\n",
    "Output: 120\n",
    "\n",
    "**Example 2:**\n",
    "\n",
    "Input: N = 4\n",
    "\n",
    "Output: 24\n"
   ]
  },
  {
   "cell_type": "code",
   "execution_count": 15,
   "id": "6b6ca47b",
   "metadata": {},
   "outputs": [],
   "source": [
    "def factorial(n):\n",
    "       \n",
    "    if n == 0:\n",
    "        return 1\n",
    "      \n",
    "    return n * factorial(n-1)\n",
    "   \n"
   ]
  },
  {
   "cell_type": "code",
   "execution_count": 17,
   "id": "89091e8e",
   "metadata": {},
   "outputs": [
    {
     "name": "stdout",
     "output_type": "stream",
     "text": [
      "Factorial of 5 is 120\n"
     ]
    }
   ],
   "source": [
    "num = 5\n",
    "print(\"Factorial of\", num, \"is\",\n",
    "factorial(num))\n",
    "   "
   ]
  },
  {
   "cell_type": "code",
   "execution_count": 18,
   "id": "f2126a29",
   "metadata": {},
   "outputs": [
    {
     "name": "stdout",
     "output_type": "stream",
     "text": [
      "Factorial of 4 is 24\n"
     ]
    }
   ],
   "source": [
    "num = 4\n",
    "print(\"Factorial of\", num, \"is\",\n",
    "factorial(num))\n",
    "   "
   ]
  },
  {
   "cell_type": "markdown",
   "id": "dd285b54",
   "metadata": {},
   "source": [
    "Question 4\n",
    "\n",
    "Given a number N and a power P, the task is to find the exponent of this number raised to the given power, i.e. N^P.\n",
    "\n",
    "**Example 1 :** \n",
    "\n",
    "Input: N = 5, P = 2\n",
    "\n",
    "Output: 25\n",
    "\n",
    "**Example 2 :**\n",
    "Input: N = 2, P = 5\n",
    "\n",
    "Output: 32\n"
   ]
  },
  {
   "cell_type": "code",
   "execution_count": 19,
   "id": "e429be9b",
   "metadata": {},
   "outputs": [],
   "source": [
    "def power(N, P):\n",
    " \n",
    "    # If power is 0 then return 1\n",
    "    # if condition is true\n",
    "    # only then it will enter it,\n",
    "    # otherwise not\n",
    "    if P == 0:\n",
    "        return 1\n",
    " \n",
    "    # Recurrence relation\n",
    "    return (N*power(N, P-1))\n",
    " \n",
    " \n"
   ]
  },
  {
   "cell_type": "code",
   "execution_count": 20,
   "id": "8f623a8d",
   "metadata": {},
   "outputs": [
    {
     "name": "stdout",
     "output_type": "stream",
     "text": [
      "25\n"
     ]
    }
   ],
   "source": [
    "if __name__ == '__main__':\n",
    "    N = 5\n",
    "    P = 2\n",
    " \n",
    "    print(power(N, P))"
   ]
  },
  {
   "cell_type": "code",
   "execution_count": 21,
   "id": "19266b32",
   "metadata": {},
   "outputs": [
    {
     "name": "stdout",
     "output_type": "stream",
     "text": [
      "32\n"
     ]
    }
   ],
   "source": [
    "if __name__ == '__main__':\n",
    "    N = 2\n",
    "    P = 5\n",
    " \n",
    "    print(power(N, P))"
   ]
  },
  {
   "cell_type": "markdown",
   "id": "471a8bfb",
   "metadata": {},
   "source": [
    "Question 5\n",
    "\n",
    "Given an array of integers **arr**, the task is to find maximum element of that array using recursion.\n",
    "\n",
    "**Example 1:**\n",
    "\n",
    "Input: arr = {1, 4, 3, -5, -4, 8, 6};\n",
    "Output: 8\n",
    "\n",
    "**Example 2:**\n",
    "\n",
    "Input: arr = {1, 4, 45, 6, 10, -8};\n",
    "Output: 45\n"
   ]
  },
  {
   "cell_type": "code",
   "execution_count": 28,
   "id": "64ec592d",
   "metadata": {},
   "outputs": [],
   "source": [
    "def findMaxRec(A, n):\n",
    " \n",
    "    # if n = 0 means whole array\n",
    "    # has been traversed\n",
    "    if (n == 1):\n",
    "        return A[0]\n",
    "    return max(A[n - 1], findMaxRec(A, n - 1))\n",
    " \n"
   ]
  },
  {
   "cell_type": "code",
   "execution_count": 29,
   "id": "c8413b5f",
   "metadata": {},
   "outputs": [
    {
     "name": "stdout",
     "output_type": "stream",
     "text": [
      "8\n"
     ]
    }
   ],
   "source": [
    "if __name__ == \"__main__\":\n",
    "     \n",
    "    A = [1, 4, 3, -5, -4,8, 6]\n",
    "    n = len(A)\n",
    "    print(findMaxRec(A, n))"
   ]
  },
  {
   "cell_type": "code",
   "execution_count": 31,
   "id": "05d3d5cb",
   "metadata": {},
   "outputs": [
    {
     "name": "stdout",
     "output_type": "stream",
     "text": [
      "45\n"
     ]
    }
   ],
   "source": [
    "if __name__ == \"__main__\":\n",
    "     \n",
    "    A = [1, 4, 45, 6, 10, -8]\n",
    "    n = len(A)\n",
    "    print(findMaxRec(A, n))"
   ]
  },
  {
   "cell_type": "markdown",
   "id": "39c49f06",
   "metadata": {},
   "source": [
    "Question 6**\n",
    "\n",
    "Given first term (a), common difference (d) and a integer N of the Arithmetic Progression series, the task is to find Nth term of the series.\n",
    "\n",
    "**Example 1:**\n",
    "\n",
    "Input : a = 2 d = 1 N = 5\n",
    "Output : 6\n",
    "The 5th term of the series is : 6\n",
    "\n",
    "**Example 2:**\n",
    "\n",
    "Input : a = 5 d = 2 N = 10\n",
    "Output : 23\n",
    "The 10th term of the series is : 23\n"
   ]
  },
  {
   "cell_type": "code",
   "execution_count": 32,
   "id": "89f9936c",
   "metadata": {},
   "outputs": [],
   "source": [
    "def Nth_of_AP(a, d, N) :\n",
    " \n",
    "    # using formula to find the\n",
    "    # Nth term t(n) = a(1) + (n-1)*d\n",
    "    return (a + (N - 1) * d)"
   ]
  },
  {
   "cell_type": "code",
   "execution_count": 33,
   "id": "c70899d2",
   "metadata": {},
   "outputs": [
    {
     "name": "stdout",
     "output_type": "stream",
     "text": [
      "The  5 th term of the series is :  6\n"
     ]
    }
   ],
   "source": [
    "a = 2  # starting number\n",
    "d = 1  # Common difference\n",
    "N = 5  # N th term to be find\n",
    "  \n",
    "# Display the output\n",
    "print( \"The \", N ,\"th term of the series is : \",\n",
    "       Nth_of_AP(a, d, N))"
   ]
  },
  {
   "cell_type": "code",
   "execution_count": 34,
   "id": "1efa96ab",
   "metadata": {},
   "outputs": [
    {
     "name": "stdout",
     "output_type": "stream",
     "text": [
      "The  10 th term of the series is :  23\n"
     ]
    }
   ],
   "source": [
    "a = 5  # starting number\n",
    "d = 2  # Common difference\n",
    "N = 10  # N th term to be find\n",
    "  \n",
    "# Display the output\n",
    "print( \"The \", N ,\"th term of the series is : \",\n",
    "       Nth_of_AP(a, d, N))"
   ]
  },
  {
   "cell_type": "markdown",
   "id": "79214da9",
   "metadata": {},
   "source": [
    "Question 7\n",
    "\n",
    "Given a string S, the task is to write a program to print all permutations of a given string.\n",
    "\n",
    "**Example 1:**\n",
    "\n",
    "***Input:***\n",
    "\n",
    "*S = “ABC”*\n",
    "\n",
    "***Output:***\n",
    "\n",
    "*“ABC”, “ACB”, “BAC”, “BCA”, “CBA”, “CAB”*\n",
    "\n",
    "**Example 2:**\n",
    "\n",
    "***Input:***\n",
    "\n",
    "*S = “XY”*\n",
    "\n",
    "***Output:***\n",
    "\n",
    "*“XY”, “YX”*\n"
   ]
  },
  {
   "cell_type": "code",
   "execution_count": 35,
   "id": "b903b6f2",
   "metadata": {},
   "outputs": [],
   "source": [
    "\n",
    "def toString(List):\n",
    "    return ''.join(List)\n",
    " \n",
    "# Function to print permutations of string\n",
    "# This function takes three parameters:\n",
    "# 1. String\n",
    "# 2. Starting index of the string\n",
    "# 3. Ending index of the string.\n",
    "\n",
    " \n",
    "def permute(a, l, r):\n",
    "    if l == r:\n",
    "        print(toString(a))\n",
    "    else:\n",
    "        for i in range(l, r):\n",
    "            a[l], a[i] = a[i], a[l]\n",
    "            permute(a, l+1, r)\n",
    "            a[l], a[i] = a[i], a[l]  # backtrack\n",
    " \n",
    " \n"
   ]
  },
  {
   "cell_type": "code",
   "execution_count": 36,
   "id": "32d56ff9",
   "metadata": {},
   "outputs": [
    {
     "name": "stdout",
     "output_type": "stream",
     "text": [
      "ABC\n",
      "ACB\n",
      "BAC\n",
      "BCA\n",
      "CBA\n",
      "CAB\n"
     ]
    }
   ],
   "source": [
    "string = \"ABC\"\n",
    "n = len(string)\n",
    "a = list(string)\n",
    " \n",
    "# Function call\n",
    "permute(a, 0, n)"
   ]
  },
  {
   "cell_type": "code",
   "execution_count": 37,
   "id": "1af4ba2e",
   "metadata": {},
   "outputs": [
    {
     "name": "stdout",
     "output_type": "stream",
     "text": [
      "XY\n",
      "YX\n"
     ]
    }
   ],
   "source": [
    "string = \"XY\"\n",
    "n = len(string)\n",
    "a = list(string)\n",
    " \n",
    "# Function call\n",
    "permute(a, 0, n)"
   ]
  },
  {
   "cell_type": "markdown",
   "id": "b7baf839",
   "metadata": {},
   "source": [
    "Question 8**\n",
    "\n",
    "Given an array, find a product of all array elements.\n",
    "\n",
    "**Example 1:**\n",
    "\n",
    "Input  : arr[] = {1, 2, 3, 4, 5}\n",
    "Output : 120\n",
    "**Example 2:**\n",
    "\n",
    "Input  : arr[] = {1, 6, 3}\n",
    "Output : 18\n"
   ]
  },
  {
   "cell_type": "code",
   "execution_count": 44,
   "id": "424dad8e",
   "metadata": {},
   "outputs": [],
   "source": [
    "def product(ar, n):\n",
    "  \n",
    "    result = 1\n",
    "    for i in range(0, n):\n",
    "        result = result * ar[i]\n",
    "    return result\n",
    "  \n",
    "  \n"
   ]
  },
  {
   "cell_type": "code",
   "execution_count": 45,
   "id": "2e410559",
   "metadata": {},
   "outputs": [
    {
     "name": "stdout",
     "output_type": "stream",
     "text": [
      "120\n"
     ]
    }
   ],
   "source": [
    "ar = [ 1, 2, 3, 4, 5 ]\n",
    "n = len(ar)\n",
    "  \n",
    "print(product(ar, n))"
   ]
  },
  {
   "cell_type": "code",
   "execution_count": 46,
   "id": "1045dcf3",
   "metadata": {},
   "outputs": [
    {
     "name": "stdout",
     "output_type": "stream",
     "text": [
      "18\n"
     ]
    }
   ],
   "source": [
    "ar = [ 1,6,3 ]\n",
    "n = len(ar)\n",
    "  \n",
    "print(product(ar, n))"
   ]
  }
 ],
 "metadata": {
  "kernelspec": {
   "display_name": "Python 3 (ipykernel)",
   "language": "python",
   "name": "python3"
  },
  "language_info": {
   "codemirror_mode": {
    "name": "ipython",
    "version": 3
   },
   "file_extension": ".py",
   "mimetype": "text/x-python",
   "name": "python",
   "nbconvert_exporter": "python",
   "pygments_lexer": "ipython3",
   "version": "3.9.12"
  }
 },
 "nbformat": 4,
 "nbformat_minor": 5
}
